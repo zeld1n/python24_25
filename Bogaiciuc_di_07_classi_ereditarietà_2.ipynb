{
  "cells": [
    {
      "cell_type": "markdown",
      "metadata": {
        "id": "vjq28u8rwgJt"
      },
      "source": [
        "# 4) Gestione catena di residenze per studenti e insegnanti\n",
        "Una catena di residenze per studenti e insegnanti vuole gestire in modo automatizzato l'affitto di stanze per il personale universitario.\n",
        "La catena dispone di più strutture residenziali dislocate sul territorio,\n",
        "ogni residenza può ospitare studenti e insegnanti. Gli ospiti della residenza affittano la stanza per n mesi e pagano una quota mensile. Gli amministratori della catena vogliono conoscere per ogni residenza il numero di ospiti presenti e l'incasso previsto in base al numero di mesi e al canone mensile corrisposto da ciascun ospite. Completare il codice seguente implementando i vari metodi ed aggiungendo gli attributi necessari per la gestione della contabilità.\n",
        "\n",
        "\n",
        "```\n",
        "# Definire una classe base Persona dalla quale derivare le classi Studente e Insegnante.\n",
        "Definire una classe Residenza, che conterrà gli oggetti di tipo Studente e Insegnante e una classe Catena,\n",
        "che conterrà gli oggetti di tipo Residenza.\n",
        "```\n",
        "\n"
      ]
    },
    {
      "cell_type": "code",
      "execution_count": 16,
      "metadata": {
        "colab": {
          "base_uri": "https://localhost:8080/"
        },
        "id": "g4_UvXgyg4e-",
        "outputId": "e12f67ea-779e-4f54-de46-f52b0bf59ec1"
      },
      "outputs": [
        {
          "name": "stdout",
          "output_type": "stream",
          "text": [
            "\n",
            "Nome: Marco \n",
            "Cognome:Verdi\n",
            "Età: 24\n",
            "Residenza: Casa Dello Studente\n",
            "\n",
            "Nome: Mario \n",
            "Cognome:Rossi\n",
            "Età: 33\n",
            "Residenza: Viale Roma 32\n"
          ]
        }
      ],
      "source": [
        "class Persona:\n",
        "  def __init__(self, nome, cognome, eta, residenza):\n",
        "    self.nome=nome\n",
        "    self.cognome=cognome\n",
        "    self.eta=eta\n",
        "    self.residenza=residenza\n",
        "\n",
        "  def scheda_personale(self):\n",
        "    return f\"\\nNome: {self.nome} \\nCognome:{self.cognome}\\nEtà: {self.eta}\\nResidenza: {self.residenza}\"\n",
        "\n",
        "  def modifica_scheda(self):\n",
        "    scelta=int(input(\"Modifica Scheda: 1 - Nome, 2 - Cognome,3 - Età,4 - Residenza \\nCosa Desideri modificare?\\n:\"))\n",
        "    match scelta:\n",
        "      case 1:\n",
        "        self.nome=input(\"Inserisci nuovo nome: \")\n",
        "      case 2:\n",
        "        self.cognome=input(\"Inserisci nuovo cognome: \")\n",
        "      case 3:\n",
        "        self.eta=int(input(\"Inserisci nuova età: \"))\n",
        "      case 4:\n",
        "        self.residenza=input(\"Inserisci nuova residenza: \")\n",
        "\n",
        "class Studente(Persona):\n",
        "    def __init__(self, nome, cognome, eta, residenza):\n",
        "      super().__init__(nome, cognome, eta, residenza)\n",
        "\n",
        "class Insegnante(Persona):\n",
        "    def __init__(self, nome, cognome, eta, residenza):\n",
        "      super().__init__(nome, cognome, eta, residenza)\n",
        "\n",
        "\n",
        "studente_uno = Studente(\"Marco\", \"Verdi\", 24, \"Casa Dello Studente\")\n",
        "insegnante_uno = Insegnante(\"Mario\", \"Rossi\", 33, \"Viale Roma 32\")\n",
        "print(studente_uno.scheda_personale())\n",
        "print(insegnante_uno.scheda_personale())"
      ]
    },
    {
      "cell_type": "code",
      "execution_count": 17,
      "metadata": {
        "id": "95qHDqz-ii-k"
      },
      "outputs": [],
      "source": [
        "class Studente(Persona):\n",
        "  profilo = \"Studente\"\n",
        "\n",
        "  def __init__(self,nome, cognome, eta, residenza, corso_di_studio):\n",
        "      super().__init__(nome, cognome, eta, residenza)\n",
        "      self.corso_di_studio=corso_di_studio\n",
        "\n",
        "\n",
        "  def scheda_personale(self):\n",
        "    return f\"\\nNome: {self.nome} \\nCognome:{self.cognome}\\nEtà: {self.eta}\\nResidenza: {self.residenza}\\n\\n\\tProfilo:Studente\\n\\tCorso di studi:{self.corso_di_studio}\\n***\"\n",
        "\n",
        "\n",
        "  def cambio_corso(self,corso):\n",
        "    self.corso_di_studio=corso\n",
        "    print(\"Corso aggiornato\")\n",
        "\n",
        "\n",
        "class Insegnante(Persona):\n",
        "  profilo = \"Insegnante\"\n",
        "\n",
        "  def __init__(self,nome, cognome, eta, residenza, materie=None):\n",
        "    super().__init__(nome, cognome, eta, residenza)\n",
        "    self.materie=materie\n",
        "\n",
        "  def scheda_personale(self):\n",
        "    return f\"\\nNome: {self.nome} \\nCognome:{self.cognome}\\nEtà: {self.eta}\\nResidenza: {self.residenza}\\n\\n\\tProfilo:Insegnante \\n\\tMaterie Insegnate: {self.materie}\\n***\"\n",
        "\n",
        "\n",
        "  def aggiungi_materia(self,nuova):\n",
        "    self.materie.append(nuova)\n",
        "    print(\"Elenco aggiornato\")"
      ]
    },
    {
      "cell_type": "code",
      "execution_count": 18,
      "metadata": {
        "colab": {
          "base_uri": "https://localhost:8080/"
        },
        "id": "oMTkAILFjcXO",
        "outputId": "76959ff7-96cb-4a49-839c-7b4a0f2d45f5"
      },
      "outputs": [
        {
          "name": "stdout",
          "output_type": "stream",
          "text": [
            "\n",
            "Nome: Mirta \n",
            "Cognome:Gialli\n",
            "Età: 25\n",
            "Residenza: Casa Della Studentessa\n",
            "\n",
            "\tProfilo:Studente\n",
            "\tCorso di studi:Corso informatica 1\n",
            "***\n",
            "\n",
            "Nome: Maria \n",
            "Cognome:Rosa\n",
            "Età: 33\n",
            "Residenza: Viale Roma 62\n",
            "\n",
            "\tProfilo:Insegnante \n",
            "\tMaterie Insegnate: ['sistemi', 'tpsi']\n",
            "***\n"
          ]
        }
      ],
      "source": [
        "studente_due = Studente(\"Mirta\", \"Gialli\", 25, \"Casa Della Studentessa\",\"Corso informatica 1\")\n",
        "insegnante_due = Insegnante(\"Maria\", \"Rosa\", 33, \"Viale Roma 62\",['sistemi','tpsi'])\n",
        "print(studente_due.scheda_personale())\n",
        "print(insegnante_due.scheda_personale())\n"
      ]
    },
    {
      "cell_type": "code",
      "execution_count": 19,
      "metadata": {
        "colab": {
          "base_uri": "https://localhost:8080/"
        },
        "id": "jToBO836kmBG",
        "outputId": "1bdf5339-a2b6-4bcb-8230-92fc789567cb"
      },
      "outputs": [],
      "source": [
        "insegnante_due.modifica_scheda()"
      ]
    },
    {
      "cell_type": "code",
      "execution_count": 20,
      "metadata": {
        "colab": {
          "base_uri": "https://localhost:8080/"
        },
        "id": "vv4ArcsYkzaQ",
        "outputId": "ffbed505-946a-4888-d284-02767f24c0c5"
      },
      "outputs": [
        {
          "name": "stdout",
          "output_type": "stream",
          "text": [
            "\n",
            "Nome: fa \n",
            "Cognome:Rosa\n",
            "Età: 33\n",
            "Residenza: Viale Roma 62\n",
            "\n",
            "\tProfilo:Insegnante \n",
            "\tMaterie Insegnate: ['sistemi', 'tpsi']\n",
            "***\n"
          ]
        }
      ],
      "source": [
        "print(insegnante_due.scheda_personale())"
      ]
    },
    {
      "cell_type": "code",
      "execution_count": 21,
      "metadata": {
        "colab": {
          "base_uri": "https://localhost:8080/"
        },
        "id": "8ni32G-utpbX",
        "outputId": "d47dc399-db97-4389-f37e-0db037a20832"
      },
      "outputs": [
        {
          "name": "stdout",
          "output_type": "stream",
          "text": [
            "Elenco aggiornato\n"
          ]
        }
      ],
      "source": [
        "insegnante_due.aggiungi_materia(\"Informatica\")"
      ]
    },
    {
      "cell_type": "code",
      "execution_count": 22,
      "metadata": {
        "colab": {
          "base_uri": "https://localhost:8080/"
        },
        "id": "toAnB577t8VC",
        "outputId": "0228d6a9-1061-44d3-dbd0-a04fd89b4fff"
      },
      "outputs": [
        {
          "name": "stdout",
          "output_type": "stream",
          "text": [
            "\n",
            "Nome: fa \n",
            "Cognome:Rosa\n",
            "Età: 33\n",
            "Residenza: Viale Roma 62\n",
            "\n",
            "\tProfilo:Insegnante \n",
            "\tMaterie Insegnate: ['sistemi', 'tpsi', 'Informatica']\n",
            "***\n"
          ]
        }
      ],
      "source": [
        "print(insegnante_due.scheda_personale())"
      ]
    },
    {
      "cell_type": "code",
      "execution_count": 23,
      "metadata": {
        "colab": {
          "base_uri": "https://localhost:8080/"
        },
        "id": "yPGYE9LPuPZQ",
        "outputId": "fe2e4531-ea54-4c6d-a0e1-bd8f370ab8e8"
      },
      "outputs": [
        {
          "name": "stdout",
          "output_type": "stream",
          "text": [
            "Corso aggiornato\n"
          ]
        }
      ],
      "source": [
        "studente_due.cambio_corso(\"Informatica\")"
      ]
    },
    {
      "cell_type": "code",
      "execution_count": 24,
      "metadata": {
        "colab": {
          "base_uri": "https://localhost:8080/"
        },
        "id": "Fqo1Ma_7ukcL",
        "outputId": "17714f21-eb48-4cce-d066-70057898e203"
      },
      "outputs": [
        {
          "name": "stdout",
          "output_type": "stream",
          "text": [
            "\n",
            "Nome: Mirta \n",
            "Cognome:Gialli\n",
            "Età: 25\n",
            "Residenza: Casa Della Studentessa\n",
            "\n",
            "\tProfilo:Studente\n",
            "\tCorso di studi:Informatica\n",
            "***\n"
          ]
        }
      ],
      "source": [
        "print(studente_due.scheda_personale())"
      ]
    },
    {
      "cell_type": "code",
      "execution_count": 25,
      "metadata": {
        "id": "mjo_D3eYuu6y"
      },
      "outputs": [],
      "source": [
        "class Residenza():\n",
        "  profilo = \"Casa dello studente\"\n",
        "\n",
        "  def __init__(self,nome, indirizzo,capienza):\n",
        "      self.nome=nome\n",
        "      self.indirizzo=indirizzo\n",
        "      self.capienza=capienza\n",
        "      self.listaStudenti=[]\n",
        "\n",
        "  def aggiungi_studente(self,studente):\n",
        "      self.listaStudenti.append(studente)\n",
        "  def rimuovi_studente(self,studente):\n",
        "    for i in self.listaStudenti:\n",
        "      if(i==studente):\n",
        "        self.listaStudenti.remove(i)\n",
        "\n",
        "\n",
        "  def elenco_studenti(self):\n",
        "      return self.listaStudenti\n"
      ]
    },
    {
      "cell_type": "code",
      "execution_count": 26,
      "metadata": {
        "id": "CeM8AIUNwTei"
      },
      "outputs": [],
      "source": [
        "casa=Residenza(\"Casa 1\",\"Indirizzo 1\",100)\n",
        "casa.aggiungi_studente(studente_uno)\n",
        "casa.aggiungi_studente(studente_due)"
      ]
    },
    {
      "cell_type": "code",
      "execution_count": 27,
      "metadata": {
        "colab": {
          "base_uri": "https://localhost:8080/"
        },
        "id": "tc_XnCi9wofQ",
        "outputId": "a8da240a-2e54-4f88-9373-75f3c2eb96c7"
      },
      "outputs": [
        {
          "name": "stdout",
          "output_type": "stream",
          "text": [
            "\n",
            "Studente: 1\n",
            "\n",
            "Nome: Marco \n",
            "Cognome:Verdi\n",
            "Età: 24\n",
            "Residenza: Casa Dello Studente\n",
            "\n",
            "Studente: 2\n",
            "\n",
            "Nome: Mirta \n",
            "Cognome:Gialli\n",
            "Età: 25\n",
            "Residenza: Casa Della Studentessa\n",
            "\n",
            "\tProfilo:Studente\n",
            "\tCorso di studi:Informatica\n",
            "***\n"
          ]
        }
      ],
      "source": [
        "#casa.rimuovi_studente(studente_uno)\n",
        "stud=casa.elenco_studenti()\n",
        "for i,s in enumerate(stud):\n",
        "  print(f\"\\nStudente: {i+1}\")\n",
        "  print(s.scheda_personale())"
      ]
    },
    {
      "cell_type": "code",
      "execution_count": 28,
      "metadata": {
        "id": "EtwO4jct6btk"
      },
      "outputs": [],
      "source": [
        "class Catena(Residenza):\n",
        "  def __init__(self,nome, indirizzo,capienza):\n",
        "    super().__init__(nome, indirizzo,capienza)\n",
        "    self.listaAbitanti=[]\n",
        "  def aggiungi_prof(self,prof):\n",
        "    self.listaAbitanti.append(prof)\n",
        "\n",
        "  def rimuovi_prof(self,prof):\n",
        "    for i in self.listaAbitanti:\n",
        "      if(i==prof):\n",
        "        self.listaAbitanti.remove(i)\n",
        "\n",
        "  def aggiungi_studente(self, studente):\n",
        "    self.listaAbitanti.append(studente)\n",
        "\n",
        "  def rimuovi_studente(self, studente):\n",
        "    for i in self.listaAbitanti:\n",
        "      if(i==studente):\n",
        "        self.listaAbitanti.remove(i)\n",
        "\n",
        "  def elenco (self):\n",
        "    return self.listaAbitanti\n"
      ]
    },
    {
      "cell_type": "code",
      "execution_count": 29,
      "metadata": {
        "colab": {
          "base_uri": "https://localhost:8080/"
        },
        "id": "XtxOp-DN7kqW",
        "outputId": "6f2f8fc5-b67a-49b1-95d1-1f00010cacc6"
      },
      "outputs": [
        {
          "name": "stdout",
          "output_type": "stream",
          "text": [
            "\n",
            "Abita: 1\n",
            "\n",
            "Nome: Marco \n",
            "Cognome:Verdi\n",
            "Età: 24\n",
            "Residenza: Casa Dello Studente\n",
            "\n",
            "Abita: 2\n",
            "\n",
            "Nome: Mirta \n",
            "Cognome:Gialli\n",
            "Età: 25\n",
            "Residenza: Casa Della Studentessa\n",
            "\n",
            "\tProfilo:Studente\n",
            "\tCorso di studi:Informatica\n",
            "***\n",
            "\n",
            "Abita: 3\n",
            "\n",
            "Nome: Mario \n",
            "Cognome:Rossi\n",
            "Età: 33\n",
            "Residenza: Viale Roma 32\n",
            "\n",
            "Abita: 4\n",
            "\n",
            "Nome: fa \n",
            "Cognome:Rosa\n",
            "Età: 33\n",
            "Residenza: Viale Roma 62\n",
            "\n",
            "\tProfilo:Insegnante \n",
            "\tMaterie Insegnate: ['sistemi', 'tpsi', 'Informatica']\n",
            "***\n"
          ]
        }
      ],
      "source": [
        "cat=Catena(\"Casa 1\",\"Indirizzo 1\",100)\n",
        "cat.aggiungi_studente(studente_uno)\n",
        "cat.aggiungi_studente(studente_due)\n",
        "cat.aggiungi_prof(insegnante_uno)\n",
        "cat.aggiungi_prof(insegnante_due)\n",
        "#cat.rimuovi_studente(studente_due)\n",
        "elenco=cat.elenco()\n",
        "for i,s in enumerate(elenco):\n",
        "  print(f\"\\nAbita: {i+1}\")\n",
        "  print(s.scheda_personale())"
      ]
    }
  ],
  "metadata": {
    "colab": {
      "provenance": []
    },
    "kernelspec": {
      "display_name": "Python 3",
      "name": "python3"
    },
    "language_info": {
      "codemirror_mode": {
        "name": "ipython",
        "version": 3
      },
      "file_extension": ".py",
      "mimetype": "text/x-python",
      "name": "python",
      "nbconvert_exporter": "python",
      "pygments_lexer": "ipython3",
      "version": "3.12.7"
    }
  },
  "nbformat": 4,
  "nbformat_minor": 0
}
