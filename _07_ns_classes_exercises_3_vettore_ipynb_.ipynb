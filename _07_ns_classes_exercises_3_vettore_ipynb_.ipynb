{
  "nbformat": 4,
  "nbformat_minor": 0,
  "metadata": {
    "colab": {
      "provenance": []
    },
    "kernelspec": {
      "display_name": "Python 3",
      "language": "python",
      "name": "python3"
    },
    "language_info": {
      "codemirror_mode": {
        "name": "ipython",
        "version": 3
      },
      "file_extension": ".py",
      "mimetype": "text/x-python",
      "name": "python",
      "nbconvert_exporter": "python",
      "pygments_lexer": "ipython3",
      "version": "3.5.2"
    }
  },
  "cells": [
    {
      "cell_type": "markdown",
      "metadata": {
        "id": "wflZvedQCLBJ"
      },
      "source": [
        "# Esercizi con le Classi\n",
        "\n",
        "\n",
        "\n"
      ]
    },
    {
      "cell_type": "markdown",
      "metadata": {
        "id": "4ZaqzSbrVpI5"
      },
      "source": [
        "## 1. Vettori\n",
        "Crea una classe che rappresenti un vettore numerico. La classe accetta in input una lista di numeri che saranno i valori del vettore. La classe deve avere queste funzionalità:\n",
        "1. Stampando un'oggetto Vector il risultato sarà la lista dei suoi valori ([def __repr__(self):](https://www.geeksforgeeks.org/python-__repr__-magic-method/)).\n",
        "2. La classe deve avere il metodo: **sum()**: ritorna la somma di tutti gli elementi del vettore.\n",
        "3. La classe deve supportare l'indexing, ossia indicando l'indice i si ottiene il valore corrispondente [def __getitem__(self, i)](https://www.delftstack.com/howto/python/python-getitem/) <br>\n",
        "es. <br>\n",
        "v = Vector([2, 4, 6])<br>\n",
        "print(v[1]) # stampa 4\n",
        "4.  Confrontando due oggetti Vector il risultato sarà True se sono composti dagli stessi valori nelle stesse posizioni, False altrimenti\n",
        "5. Sommando due oggetti Vector il risultato sarà un nuovo oggetto Vector composto dalla somma dei valori dei due vettori alle posizioni corrispondenti (es. Vector([1,2,3]) + Vector([2,4,6]) = Vector([3,6,9]). ( [def __add__(self, vector):](https://www.codingem.com/python-__add__-method/). Suggerimento: [usare la funzione zip](https://www.andreaminini.com/python/funzione-zip-python)\n",
        "6. Sottraendo un'oggetto Vector ad un'altro oggetto Vector il risultato sarà un nuovo oggetto Vector composto dalla differenza dei valori dei due vettori alle posizioni corrispondenti Vector([2,4,6]) - Vector([1,2,3]) = Vector([1,2,3]). [def __sub__(self, vector):](https://blog.finxter.com/python-__sub__-magic-method/)\n",
        "7. Moltiplicando due oggetti Vector il risultato dovrà essere il prodotto scalare dei due vettori, il prodotto scalare è definito come la somma del prodotto dei singoli elementi corrispondenti dei due vettori (es. Vector([1,2,3]) + Vector([2,4,6]) = (1x2+2x4+3x6=28). [def __mul__(self, vector):](https://blog.finxter.com/python-__mul__/)\n",
        "\n",
        "8. La classe deve avere il metodo: **norm()**: ritorna la norma del vettore, cioè la radice quadrata del [prodotto scalare](https://www.youmath.it/lezioni/algebra-lineare/matrici-e-vettori/882-norma-e-prodotto-scalare.html) tra il vettore e se stesso (es. Vector([1, 2, 3, 4]).norm() = sqrt(1x1+2x2+3x3+4x4)=5.47)\n",
        "\n",
        "NB.Per i punti 4,5,6,7 i vettori devono avere uguale dimensione, in caso di dimensioni differenti stampare \"I vettori hanno dimensione differente e non possono essere (... indicare operazione)\" e ritornare None.\n",
        "\n"
      ]
    },
    {
      "cell_type": "code",
      "source": [
        "s=\"ABCD\"\n",
        "l=[\"Alfa\", \"Beta\", \"Gamma\", \"Delta\"]\n",
        "for i in zip(s,l):\n",
        "  print(i)\n",
        "for i,j in zip(s,l):\n",
        "  print(i,j)"
      ],
      "metadata": {
        "colab": {
          "base_uri": "https://localhost:8080/"
        },
        "id": "zcHg-ZfZx3OQ",
        "outputId": "f4caaba1-25a3-4ee0-fbde-7a967da94d42"
      },
      "execution_count": null,
      "outputs": [
        {
          "output_type": "stream",
          "name": "stdout",
          "text": [
            "('A', 'Alfa')\n",
            "('B', 'Beta')\n",
            "('C', 'Gamma')\n",
            "('D', 'Delta')\n",
            "A Alfa\n",
            "B Beta\n",
            "C Gamma\n",
            "D Delta\n"
          ]
        }
      ]
    },
    {
      "cell_type": "code",
      "source": [
        "import math\n",
        "\n",
        "class Vector:\n",
        "    def __init__(self, values):\n",
        "        self.values = values\n",
        "\n",
        "    def __repr__(self):\n",
        "        return str(self.values)\n",
        "\n",
        "    def sum(self):\n",
        "        return sum(self.values)\n",
        "\n",
        "    def __getitem__(self, i):\n",
        "        return self.values[i]\n",
        "\n",
        "    def __eq__(self, vector):\n",
        "        if len(self.values) != len(vector.values):\n",
        "            return False\n",
        "        return self.values == vector.values\n",
        "\n",
        "    def __add__(self, vector):\n",
        "        if len(self.values) != len(vector.values):\n",
        "          print(\"I vettori hanno dimensioni diverse\")\n",
        "          return None\n",
        "        somma_values = []\n",
        "        for a, b in zip(self.values, vector.values): # oppure for i in range(len(self.values))\n",
        "            somma_values.append(a+b)\n",
        "        return Vector(somma_values)\n",
        "\n",
        "\n",
        "    def __sub__(self, vector):\n",
        "        if len(self.values) != len(vector.values):\n",
        "          print(\"I vettori hanno dimensioni diverse\")\n",
        "          return None\n",
        "\n",
        "        sottratti_values = []\n",
        "        for a, b in zip(self.values, vector.values) :# oppure for i in range (len(self.values))\n",
        "            sottratti_values.append(a - b)\n",
        "        return Vector(sottratti_values)\n",
        "\n",
        "\n",
        "    def __mul__(self, vector):\n",
        "\n",
        "       if len(self.values) != len(vector.values):\n",
        "        print(\"I vettori hanno dimensioni diverse\")\n",
        "        return None\n",
        "\n",
        "       product_sum = 0\n",
        "       for a,b in zip(self.values, vector.values):\n",
        "          product_sum += a * b\n",
        "\n",
        "       return product_sum\n",
        "\n",
        "    def dot(self, vector):\n",
        "        if len(self.values) != len(vector.values):\n",
        "          print(\"I vettori hanno dimensioni diverse\")\n",
        "          return None\n",
        "\n",
        "        product_sum = 0\n",
        "        for a, b in zip(self.values, vector.values):\n",
        "           product_sum += a * b\n",
        "\n",
        "        return product_sum\n",
        "\n",
        "\n",
        "    def norm(self):\n",
        "        return math.sqrt(self.dot(self))\n",
        "\n",
        "# Test della classe\n",
        "v1 = Vector([1, 2, 3])\n",
        "print(\"1) \", v1)\n",
        "print(\"2) \", v1[0])\n",
        "print(\"3) \", v1.sum())\n",
        "v2 = Vector([2, 4, 6])\n",
        "print(\"4) \", v1 + v2)\n",
        "print(\"5) \", v2 - v1)\n",
        "print(\"6) \", v1 == v1)\n",
        "print(\"7) \", v1 == v2)\n",
        "print(\"8) \", v1 * v2)\n",
        "v3 = Vector([1, 2, 3, 4])\n",
        "print(\"9) \", v1 * v3)\n",
        "print(\"10) \", v3.norm())\n"
      ],
      "metadata": {
        "id": "r9aF4o5mvKxA",
        "colab": {
          "base_uri": "https://localhost:8080/"
        },
        "outputId": "c34f1d4f-6876-4493-d843-e37841cefae8"
      },
      "execution_count": null,
      "outputs": [
        {
          "output_type": "stream",
          "name": "stdout",
          "text": [
            "1)  [1, 2, 3]\n",
            "2)  1\n",
            "3)  6\n",
            "4)  [3, 6, 9]\n",
            "5)  [1, 2, 3]\n",
            "6)  True\n",
            "7)  False\n",
            "8)  28\n",
            "I vettori hanno dimensioni diverse\n",
            "9)  None\n",
            "10)  5.477225575051661\n"
          ]
        }
      ]
    }
  ]
}